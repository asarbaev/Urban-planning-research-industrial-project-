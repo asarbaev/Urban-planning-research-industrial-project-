{
 "cells": [
  {
   "cell_type": "markdown",
   "metadata": {},
   "source": [
    "# Data Mining. Leboncoin appartments."
   ]
  },
  {
   "cell_type": "markdown",
   "metadata": {},
   "source": [
    "###### Python 3"
   ]
  },
  {
   "cell_type": "markdown",
   "metadata": {},
   "source": [
    "## Importing Libraries"
   ]
  },
  {
   "cell_type": "markdown",
   "metadata": {},
   "source": [
    "##### Basic packages"
   ]
  },
  {
   "cell_type": "code",
   "execution_count": 2,
   "metadata": {},
   "outputs": [],
   "source": [
    "import csv\n",
    "import re\n",
    "import math\n",
    "import numpy as np\n",
    "import pandas as pd\n",
    "#import unidecode"
   ]
  },
  {
   "cell_type": "markdown",
   "metadata": {},
   "source": [
    "##### Packages for web crawling"
   ]
  },
  {
   "cell_type": "code",
   "execution_count": 3,
   "metadata": {
    "collapsed": true
   },
   "outputs": [],
   "source": [
    "from lxml import html\n",
    "from bs4 import BeautifulSoup\n",
    "import urllib.request"
   ]
  },
  {
   "cell_type": "markdown",
   "metadata": {},
   "source": [
    "##### Packages for action emulations and requests"
   ]
  },
  {
   "cell_type": "code",
   "execution_count": 4,
   "metadata": {
    "collapsed": true
   },
   "outputs": [],
   "source": [
    "from selenium import webdriver\n",
    "from selenium.webdriver.common.by import By\n",
    "from selenium.webdriver.support.ui import WebDriverWait\n",
    "from selenium.common.exceptions import TimeoutException\n",
    "from selenium.webdriver.common.action_chains import ActionChains\n",
    "\n",
    "import googlemaps\n",
    "from datetime import datetime"
   ]
  },
  {
   "cell_type": "markdown",
   "metadata": {},
   "source": [
    "# Auxiliary functions"
   ]
  },
  {
   "cell_type": "markdown",
   "metadata": {},
   "source": [
    "#### Crawling"
   ]
  },
  {
   "cell_type": "code",
   "execution_count": 5,
   "metadata": {
    "collapsed": true
   },
   "outputs": [],
   "source": [
    "def MakeLinksOfPages(soup, city, postal_code, filters = '&mrs=100&ret=1&ret=2'):\n",
    "    \"\"\"\n",
    "    Creates a list of leboncoin pages that contain offers for the city with postal_code, plus some filters,\n",
    "    e.g.\n",
    "    mrs : minimal price\n",
    "    ret=1 : house\n",
    "    ret=2 : appartments\n",
    "    \"\"\"\n",
    "    pages=[]\n",
    "    last_page=0\n",
    "    for line in soup.find_all(\"a\", {\"class\": \"element page static\"}):\n",
    "        lpage=line.get('href')\n",
    "        elem=re.split('=|&',lpage)\n",
    "        if int(elem[1])>last_page:\n",
    "            last_page=int(elem[1])\n",
    "        else: next \n",
    "    for i in range(1,last_page+1):\n",
    "            base = 'https://www.leboncoin.fr/locations/offres/'\n",
    "            num_page = '?o=' + str(i)\n",
    "            location = '&location='+city+'%20'+postal_code\n",
    "            pages.append(base + num_page + location + filters)\n",
    "    return pages"
   ]
  },
  {
   "cell_type": "code",
   "execution_count": 6,
   "metadata": {},
   "outputs": [],
   "source": [
    "def TakeAllLinksFromPage(page):\n",
    "    \"\"\"\n",
    "    From a leboncoin page it takes all links that correspond to offers.\n",
    "    page is the link to this page\n",
    "    \"\"\"\n",
    "    links=[]\n",
    "\n",
    "\n",
    "    url=urllib.request.urlopen(page)\n",
    "    soup=BeautifulSoup(url, 'html.parser')\n",
    "    for line in soup.find_all('a'):\n",
    "        newline = line.get('href')\n",
    "        if newline is not None:\n",
    "            if \"www.leboncoin.fr/locations/\" in newline:\n",
    "                element = newline.split(\"/\")[4]\n",
    "                if (\".\" in element):\n",
    "                    links.append(\"https:\"+newline)\n",
    "    return links"
   ]
  },
  {
   "cell_type": "code",
   "execution_count": 7,
   "metadata": {
    "collapsed": true
   },
   "outputs": [],
   "source": [
    "def CrawlThePage():\n",
    "    \"\"\"\n",
    "    Documentation is needed\n",
    "    \"\"\"\n",
    "    stop = False\n",
    "    descrip = lsoup.find('p', {'itemprop': 'description'}).get_text(separator=\"\\n\")\n",
    "    if PaidMonthly(descrip):\n",
    "        result_dict['description'].append(descrip)\n",
    "    else:\n",
    "        stop = True\n",
    "                \n",
    "    if not stop:\n",
    "        for line in lsoup.find_all('script', type=\"text/javascript\"):\n",
    "            if  \"var utag_data\" in str(line) :\n",
    "                lines_list = str(line).split(\"\\n\")\n",
    "                for line_ in lines_list:\n",
    "                    interesting_line = line_.replace(\" \",\"\")\n",
    "                    line_split = interesting_line.split(\":\")\n",
    "                    if (line_split[0] in result_dict):\n",
    "                        result_dict[line_split[0]].append(line_split[1].replace('\"',\"\"))\n",
    "                        #.encode(\"utf-8\")\n",
    "                for key in (result_dict.keys()):\n",
    "                    if len(result_dict[key]) != l+1:\n",
    "                        result_dict[key].append(float('nan'))"
   ]
  },
  {
   "cell_type": "markdown",
   "metadata": {},
   "source": [
    "#### Conversion of coordinates"
   ]
  },
  {
   "cell_type": "code",
   "execution_count": 8,
   "metadata": {
    "collapsed": true
   },
   "outputs": [],
   "source": [
    "def Geo2Mercator(latitude, longitude, zoomLevel=16):\n",
    "    \"\"\"Conversion from latitude and longitude to the mercator tiles coordinates\n",
    "     \n",
    "    It takes latitude and longitude and convert them to coordinates in Mercator projection (a case of tiles' map).\n",
    "    \n",
    "    Parameters\n",
    "    ----------\n",
    "    latitude : float\n",
    "        Latitude in degrees.\n",
    "    longitude : float\n",
    "        Longitude in degrees.\n",
    "    zoomLevel : int, optional\n",
    "        A scale level. By default, it is equal to 16 that is a default zoom for opening the here.com map.\n",
    "        \n",
    "    Returns\n",
    "    -------\n",
    "    row : int\n",
    "        Row's number given a zoomLevel in the map of tiles.\n",
    "    column : int\n",
    "        Column's number given a zoomLevel in the map of tiles.\n",
    "    \"\"\"\n",
    "    lonRad = math.radians(longitude)\n",
    "    latRad = math.radians(latitude)\n",
    "    pi = math.pi\n",
    "    \n",
    "    columnIndex = lonRad\n",
    "    rowIndex = math.log(math.tan(math.pi/4 + latRad/2))\n",
    "    \n",
    "    columnNormalized = (1 + (columnIndex / pi)) / 2\n",
    "    rowNormalized = (1 - (rowIndex / pi)) / 2\n",
    "    \n",
    "    tilesPerRow = 2 ** zoomLevel\n",
    "    \n",
    "    column = round(columnNormalized * (tilesPerRow - 1))\n",
    "    row = round(rowNormalized * (tilesPerRow - 1))\n",
    "    return(row, column)"
   ]
  },
  {
   "cell_type": "code",
   "execution_count": 9,
   "metadata": {
    "collapsed": true
   },
   "outputs": [],
   "source": [
    "def Mercator2Geo(column, row, zoomLevel=16, degree = True):\n",
    "    \"\"\"Conversion from the mercator tiles coordinates to latitude and longitude\n",
    "     \n",
    "    It takes coordinates in Mercator projection (a case of tiles' map) and convert them to latitude and longitude.\n",
    "    \n",
    "    Parameters\n",
    "    ----------\n",
    "    column : int\n",
    "        Column's number given a zoomLevel in the map of tiles.\n",
    "    row : int\n",
    "        Row's number given a zoomLevel in the map of tiles.\n",
    "    zoomLevel : int, optional\n",
    "        A scale level. By default, it is equal to 16 that is a default zoom for opening the here.com map.\n",
    "    degree: bool, optional\n",
    "        It indicates whether output should be returned in degrees.  By default, it is True.\n",
    "        \n",
    "    Returns\n",
    "    -------\n",
    "    phi : float\n",
    "        Latitude. If degree == True, then in degrees. Otherwise, in radians.\n",
    "    lmbda : float\n",
    "        Longitude. If degree == True, then in degrees. Otherwise, in radians.\n",
    "    \"\"\"\n",
    "    pi = math.pi\n",
    "    phi = 2*np.arctan( np.exp(pi - (row)/(2**zoomLevel-1)*2*pi ) ) - pi/2\n",
    "    lmbda = (column/(2**zoomLevel-1))*2*pi-pi\n",
    "    if degree:\n",
    "        phi = 180*phi/pi\n",
    "        lmbda = 180*lmbda/pi\n",
    "    return(phi, lmbda)"
   ]
  },
  {
   "cell_type": "markdown",
   "metadata": {},
   "source": [
    "#### Retrieve coordinates"
   ]
  },
  {
   "cell_type": "code",
   "execution_count": 10,
   "metadata": {
    "collapsed": true
   },
   "outputs": [],
   "source": [
    "def GetCoordinates(link, path):\n",
    "    \"\"\"The function open a link by Webdriver driver, clicks on a map's button, \n",
    "    retrieve coordinates in mercator projection, converts them into standard coordinates.\n",
    "    \n",
    "    Parameters\n",
    "    ----------\n",
    "    link : str\n",
    "        A link of a place on Leboncoin.fr\n",
    "    driver : selenium.webdriver.firefox.webdriver.WebDriver\n",
    "        Webdriver. It works well with Geckodriver. \n",
    "        If to use chromedriver, problem can arise that the button is not clickable in the center point.\n",
    "    Returns\n",
    "    -------\n",
    "    out : numpy.ndarray\n",
    "        Latitude and Longitude in degrees.\n",
    "    \"\"\"\n",
    "    driver = webdriver.Firefox(executable_path = path)\n",
    "    #set timeout of page load\n",
    "    driver.set_page_load_timeout(5)\n",
    "    try:\n",
    "        driver.get(link)\n",
    "    except TimeoutException:\n",
    "        driver.execute_script(\"window.stop();\")\n",
    "    try:\n",
    "        driver.get(link)\n",
    "    except TimeoutException:\n",
    "        driver.close()\n",
    "        return np.array([0,0])\n",
    "    \n",
    "    #search in the html code for a button that opens a map with the location\n",
    "    elem_line = driver.find_element_by_xpath(\"//div[contains(@class, 'line_city')]\")\n",
    "    elem_list = elem_line.find_elements_by_xpath(\".//*\")\n",
    "    buttons = [elem for elem in elem_list if elem.tag_name == 'button']\n",
    "    #there are two objects of a class button\n",
    "    #basically, they have same properties, but only second one is clickable\n",
    "    buttons[1].click()\n",
    "    \n",
    "    #after the map is open, new code in the html is appeared \n",
    "    try:\n",
    "        leaflet = driver.find_elements_by_xpath(\"//div[@class='leaflet-tile-container']\")[0]\n",
    "        images = leaflet.find_elements_by_xpath(\"//img\")\n",
    "    except IndexError:\n",
    "        driver.close()\n",
    "        return np.array([0,0])\n",
    "    \n",
    "    #we need only images that have a structure http://1.base.maps.api.here.com/...\n",
    "    pattern = 'http://1.base.maps.api.here.com'\n",
    "    refs = []\n",
    "    for image in images:\n",
    "        s = image.get_attribute('src')\n",
    "        if (pattern in s):\n",
    "            refs.append(s)\n",
    "    #all links are like:\n",
    "    #http://1.base.maps.api.here.com/maptile/2.1/maptile/newest/normal.day/16/X/Y/256/png8...\n",
    "    #so, we retrieve X and Y\n",
    "    mercators = list(map(lambda x: list(map(int, x.split(\"/\")[-4:-2])),refs))\n",
    "    #convert to longitude and latitude\n",
    "    geos = list(map(lambda x: Mercator2Geo(x[0], x[1]), mercators))\n",
    "    coordinates = np.array(geos).mean(axis=0)\n",
    "    # if not in the city, we set to 0\n",
    "    if (not InTheCity(coordinates[0], coordinates[1])):\n",
    "        coordinates[0] = 0\n",
    "        coordinates[1] = 0\n",
    "    driver.close()\n",
    "    return coordinates"
   ]
  },
  {
   "cell_type": "markdown",
   "metadata": {},
   "source": [
    "#### Different checks"
   ]
  },
  {
   "cell_type": "code",
   "execution_count": 11,
   "metadata": {
    "collapsed": true
   },
   "outputs": [],
   "source": [
    "def InTheCity(latitude, longitude, bottom = 45.1221, top = 45.2678, left = 5.6724, right = 5.9254):\n",
    "    \"\"\"Check whether a place belongs to the city area. By default, the city is Grenoble. \n",
    "    \n",
    "    It checks coordinates of the place whether they are adequate or not. If the coordinate point is located\n",
    "    inside a frame, then it returns True. As the frame for Grenoble it has been taken a territory between:\n",
    "    Sarcenas(North)\n",
    "    Le Pont-de-Claix(South)\n",
    "    Engins(West)\n",
    "    Revel(East)\n",
    "    \n",
    "    Parameters\n",
    "    ----------\n",
    "    latitude : float\n",
    "        Latitude of a place in degrees.\n",
    "    longitude : float\n",
    "        Longtitude of a place in degrees.\n",
    "    bottom : float\n",
    "        A lower bound for the latitude of the place.\n",
    "    top : float\n",
    "        A upper bound for the latitude of the place.\n",
    "    left : float\n",
    "        A lower bound for the longitude of the place.\n",
    "    right : float\n",
    "        A upper bound for the longitude of the place.\n",
    "    Returns\n",
    "    -------\n",
    "    out : bool\n",
    "        True value when it is in the city. False is otherwise.\n",
    "    \"\"\"\n",
    "    if (latitude > bottom) and (latitude < top) and (longitude > left) and (longitude < right):\n",
    "        return True\n",
    "    else:\n",
    "        return False"
   ]
  },
  {
   "cell_type": "code",
   "execution_count": 12,
   "metadata": {
    "collapsed": true
   },
   "outputs": [],
   "source": [
    "def PaidMonthly(Description):\n",
    "    \"\"\"Checks in description whether the price is per month or per week/night. Returns True, if it is paid monthly.\n",
    "    \n",
    "    Parameters\n",
    "    ----------\n",
    "    Description : list\n",
    "        A list of strings. Each element is a line from the Description.\n",
    "    Returns\n",
    "    -------\n",
    "    out : bool\n",
    "        True, when it is paid monthly,\n",
    "        False, otherwise.\n",
    "    \"\"\"\n",
    "    res = True\n",
    "    not_monthly_paid = {\"tarif semaine\", \"la nuitée\", \"la nuit\", \"la semaine\"}\n",
    "    for d in Description:\n",
    "        for dic in not_monthly_paid:\n",
    "            if dic in d:\n",
    "                res = False\n",
    "    return res"
   ]
  },
  {
   "cell_type": "code",
   "execution_count": 13,
   "metadata": {
    "collapsed": true
   },
   "outputs": [],
   "source": [
    "def OneSearch(regex, string):\n",
    "    \"\"\"\n",
    "    Just handles an exception.\n",
    "    \"\"\"\n",
    "    try:\n",
    "        return regex.search(string).group()\n",
    "    except AttributeError:\n",
    "        return ''"
   ]
  },
  {
   "cell_type": "code",
   "execution_count": 14,
   "metadata": {
    "collapsed": true
   },
   "outputs": [],
   "source": [
    "def ContainsGrenoble(x):\n",
    "    \"\"\"\n",
    "    It adds grenoble in the begining of the query x.\n",
    "    \"\"\"\n",
    "    if 'grenoble' not in x: \n",
    "        return 'grenoble ' + x \n",
    "    else:\n",
    "        return x"
   ]
  },
  {
   "cell_type": "code",
   "execution_count": 15,
   "metadata": {
    "collapsed": true
   },
   "outputs": [],
   "source": [
    "def SearchInDescription(description):\n",
    "    \"\"\"\n",
    "    Using some primitive regular expressions, \n",
    "    it tries to find some parts of the description that can be the address of the offer. \n",
    "    Attention: to use it, google maps client should be initialized (as it is done in the main part of the code)\n",
    "    \"\"\"\n",
    "    description = description.lower()\n",
    "    description = description.split('\\n')\n",
    "    description = list(map(lambda x: ' '.join(x.split()), description))\n",
    "    addr = []\n",
    "    dictionary = [' rue ', ' avenue ', ' place ', ' cours ']\n",
    "    \n",
    "    #from 1 to 4 digits, then a word from dictionary, after any symbols, finally, pattern is ended by \"grenoble\"\n",
    "    myregex = [re.compile('[0-9]{1,4}'+ dic +'(.*)grenoble') for dic in dictionary]\n",
    "    #some other options\n",
    "    myregex += [re.compile('[0-9]{1,4}'+ dic +'(.*),') for dic in dictionary]\n",
    "    myregex += [re.compile('[0-9]{1,4}'+ dic +'(.*)') for dic in dictionary]\n",
    "    myregex += [re.compile(dic +'(.*)grenoble') for dic in dictionary]\n",
    "    #look for substrings that correspond to one of the patterns\n",
    "    for d in description:\n",
    "        res = list(map(lambda x: OneSearch(x,d), myregex))\n",
    "        res = list(filter(None, res))\n",
    "        addr += res\n",
    "    \n",
    "    addr = list(map(ContainsGrenoble, addr))\n",
    "    #if we spotted possible addresses => send queries to the google api\n",
    "    #if google returns some coordinates => return them\n",
    "    #if it fails, return zeros\n",
    "    if len(addr) != 0:\n",
    "        for a in addr:\n",
    "            geocode_result = gmaps.geocode(a)\n",
    "            if len(geocode_result) != 0:\n",
    "                return np.array([(geocode_result[0]['geometry']['location']['lat']),(geocode_result[0]['geometry']['location']['lng'])])\n",
    "    return np.array([0,0])"
   ]
  },
  {
   "cell_type": "markdown",
   "metadata": {},
   "source": [
    "## Main code"
   ]
  },
  {
   "cell_type": "markdown",
   "metadata": {},
   "source": [
    "#### Find links"
   ]
  },
  {
   "cell_type": "code",
   "execution_count": 28,
   "metadata": {
    "scrolled": true
   },
   "outputs": [],
   "source": [
    "# Input : List containing City , Postal code\n",
    "\n",
    "cities = [\"Grenoble\", \"Grenoble\"]\n",
    "\n",
    "postal_codes = [\"38000\", \"38100\"]\n",
    "\n",
    "filters = '&mrs=100&ret=1&ret=2'\n",
    "# mrs is a minimal cost\n",
    "# ret = 1: maison\n",
    "# ret = 2: appartement\n",
    "\n",
    "# because of selenium, all together takes lots of time\n",
    "# so, data was mined city by city, page by page\n",
    "i = 0\n",
    "\n",
    "name = 'https://www.leboncoin.fr/locations/offres/?th=1&location=' + cities[i] + '%20' + postal_codes[i] + filters\n",
    "url = urllib.request.urlopen(name).read()\n",
    "soup = BeautifulSoup(url, 'html.parser')\n",
    "pages = MakeLinksOfPages(soup, cities[i], postal_codes[i])"
   ]
  },
  {
   "cell_type": "code",
   "execution_count": 60,
   "metadata": {},
   "outputs": [],
   "source": [
    "#links = []\n",
    "#for page in pages:\n",
    "#    links += TakeAllLinksFromPage(page)\n",
    "num = 6\n",
    "links = TakeAllLinksFromPage(pages[num])"
   ]
  },
  {
   "cell_type": "markdown",
   "metadata": {},
   "source": [
    "#### Mining"
   ]
  },
  {
   "cell_type": "code",
   "execution_count": 61,
   "metadata": {},
   "outputs": [],
   "source": [
    "result_dict={'region':[],'oas_region':[],'departement':[], 'oas_departement':[], 'cp':[],'city':[],\\\n",
    "             'titre':[], 'publish_date':[],'last_update_date':[],'loyer':[],'surface':[],'pieces':[],\\\n",
    "             'type':[],'meuble':[],'description':[], 'latitude':[], 'longitude':[]}\n",
    "\n",
    "#insert below your webdriver's location\n",
    "path = \"D:/Drivers/geckodriver/geckodriver.exe\"\n",
    "#insert below your key for use of Google API Geocoding\n",
    "gmaps = googlemaps.Client(key='???')\n",
    "\n",
    "for l in range(len(links)):\n",
    "    content=urllib.request.urlopen(links[l])\n",
    "    lsoup=BeautifulSoup(content, \"html.parser\")\n",
    "    CrawlThePage()\n",
    "    coordinates = SearchInDescription(result_dict['description'][l])\n",
    "    result_dict['description'][l] = result_dict['description'][l].replace('\\n','. ')\n",
    "    # zero values of lon. and lat. means that they were not found \n",
    "    # if both coordinates are 0, their sum is zero\n",
    "    if sum(coordinates) == 0:\n",
    "        # trying to find by Selenium\n",
    "        coordinates = GetCoordinates(links[l], path)\n",
    "    # finally, we check again, whether coordinates were found    \n",
    "    if sum(coordinates) != 0:\n",
    "        result_dict['latitude'][l] = coordinates[0]\n",
    "        result_dict['longitude'][l] = coordinates[1]\n",
    "    \n",
    "df = pd.DataFrame.from_dict(result_dict)"
   ]
  },
  {
   "cell_type": "code",
   "execution_count": 64,
   "metadata": {},
   "outputs": [],
   "source": [
    "name = \"data/grenoble_additional_data/Data_from_leboncoin_\"+cities[i]+\"_\"+postal_codes[i]+ \"_page_\"+ str(num) +\".csv\"\n",
    "df.to_csv(name, sep=';', encoding=\"utf-8\")"
   ]
  }
 ],
 "metadata": {
  "anaconda-cloud": {},
  "kernelspec": {
   "display_name": "Python 2",
   "language": "python",
   "name": "python2"
  },
  "language_info": {
   "codemirror_mode": {
    "name": "ipython",
    "version": 2
   },
   "file_extension": ".py",
   "mimetype": "text/x-python",
   "name": "python",
   "nbconvert_exporter": "python",
   "pygments_lexer": "ipython2",
   "version": "2.7.14"
  }
 },
 "nbformat": 4,
 "nbformat_minor": 1
}
